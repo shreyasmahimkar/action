{
 "cells": [
  {
   "cell_type": "markdown",
   "metadata": {},
   "source": [
    "## Deep Research\n",
    "\n",
    "One of the classic cross-business Agentic use cases! This is huge."
   ]
  },
  {
   "cell_type": "markdown",
   "metadata": {},
   "source": [
    "<table style=\"margin: 0; text-align: left; width:100%\">\n",
    "    <tr>\n",
    "        <td style=\"width: 150px; height: 150px; vertical-align: middle;\">\n",
    "            <img src=\"../assets/business.png\" width=\"150\" height=\"150\" style=\"display: block;\" />\n",
    "        </td>\n",
    "        <td>\n",
    "            <h2 style=\"color:#00bfff;\">Commercial implications</h2>\n",
    "            <span style=\"color:#00bfff;\">A Deep Research agent on Covered Strangles\n",
    "            </span>\n",
    "        </td>\n",
    "    </tr>\n",
    "</table>"
   ]
  },
  {
   "cell_type": "code",
   "execution_count": 1,
   "metadata": {},
   "outputs": [],
   "source": [
    "# Imports\n",
    "\n",
    "from agents import Agent, WebSearchTool, trace, Runner, function_tool\n",
    "from agents.model_settings import ModelSettings\n",
    "from pydantic import BaseModel\n",
    "from dotenv import load_dotenv\n",
    "import asyncio\n",
    "import os\n",
    "from IPython.display import display, Markdown\n",
    "from pprint import pprint\n",
    "import requests\n",
    "load_dotenv(override=True)\n",
    "\n",
    "# Constants\n",
    "\n",
    "pushover_user = os.getenv(\"PUSHOVER_USER\")\n",
    "pushover_token = os.getenv(\"PUSHOVER_TOKEN\")\n",
    "pushover_url = \"https://api.pushover.net/1/messages.json\""
   ]
  },
  {
   "cell_type": "markdown",
   "metadata": {},
   "source": [
    "## OpenAI Hosted Tools\n",
    "\n",
    "OpenAI Agents SDK includes the following hosted tools:\n",
    "\n",
    "The `WebSearchTool` lets an agent search the web.  \n",
    "The `FileSearchTool` allows retrieving information from your OpenAI Vector Stores.  \n",
    "The `ComputerTool` allows automating computer use tasks like taking screenshots and clicking.\n",
    "\n",
    "### Important note - API charge of WebSearchTool\n",
    "\n",
    "This is costing me 2.5 cents per call for OpenAI WebSearchTool. That can add up to $2-$3 for the next 2 labs. We'll use low cost Search tools with other platforms, so feel free to skip running this if the cost is a concern.\n",
    "\n",
    "Costs are here: https://platform.openai.com/docs/pricing#web-search"
   ]
  },
  {
   "cell_type": "markdown",
   "metadata": {},
   "source": [
    "## We will be making 4 Agents:\n",
    "\n",
    "1. Search Agent - searches online given a search term using an OpenAI hosted tool\n",
    "2. Planner Agent - given a query from the user, come up with searches\n",
    "3. Report Agent - make a report on results\n",
    "4. Push Agent - send a notification to the user's phone with a summary\n",
    "\n",
    "## Our First Agent: Search Agent\n",
    "\n",
    "Given a Search term, search for it on the internet and summarize results."
   ]
  },
  {
   "cell_type": "code",
   "execution_count": 37,
   "metadata": {},
   "outputs": [],
   "source": [
    "date_end = \"30 May 2025\""
   ]
  },
  {
   "cell_type": "code",
   "execution_count": 38,
   "metadata": {},
   "outputs": [],
   "source": [
    "INSTRUCTIONS = f\"You are a research assistant. For a Crypto Symbol Find Sentiment probabilities of upward momentum\\\n",
    "     or downward momentum by  {date_end}\"\n",
    "\n",
    "search_agent = Agent(\n",
    "    name=\"Search agent\",\n",
    "    instructions=INSTRUCTIONS,\n",
    "    tools=[WebSearchTool(search_context_size=\"low\")],\n",
    "    model=\"gpt-4.1-mini\",\n",
    "    model_settings=ModelSettings(tool_choice=\"required\"),\n",
    ")"
   ]
  },
  {
   "cell_type": "code",
   "execution_count": null,
   "metadata": {},
   "outputs": [],
   "source": [
    "message = \"Whats the forecast for ETH?\"\n",
    "\n",
    "with trace(\"Search\"):\n",
    "    result = await Runner.run(search_agent, message)\n",
    "\n",
    "display(Markdown(result.final_output))"
   ]
  },
  {
   "cell_type": "markdown",
   "metadata": {},
   "source": [
    "Take a look at the trace\n",
    "\n",
    "https://platform.openai.com/traces"
   ]
  },
  {
   "cell_type": "markdown",
   "metadata": {},
   "source": [
    "## Our Second Agent: Planner Agent\n",
    "\n",
    "Given a query, come up with 5 ideas for web searches that could be run.\n",
    "\n",
    "Use Structured Outputs as our way to ensure the Agent provides what we need."
   ]
  },
  {
   "cell_type": "code",
   "execution_count": 4,
   "metadata": {},
   "outputs": [],
   "source": [
    "# See note above about cost of WebSearchTool\n",
    "\n",
    "HOW_MANY_SEARCHES = 5\n",
    "\n",
    "INSTRUCTIONS = f\"You are a helpful research assistant. Given a query, come up with a set of web searches \\\n",
    "to perform to best answer the query. Output {HOW_MANY_SEARCHES} terms to query for.\"\n",
    "\n",
    "# We use Pydantic objects to describe the Schema of the output\n",
    "\n",
    "class WebSearchItem(BaseModel):\n",
    "    reason: str\n",
    "    \"Your reasoning for why this search is important to the query.\"\n",
    "\n",
    "    query: str\n",
    "    \"The search term to use for the web search.\"\n",
    "\n",
    "\n",
    "class WebSearchPlan(BaseModel):\n",
    "    searches: list[WebSearchItem]\n",
    "    \"\"\"A list of web searches to perform to best answer the query.\"\"\"\n",
    "\n",
    "# We pass in the Pydantic object to ensure the output follows the schema\n",
    "\n",
    "planner_agent = Agent(\n",
    "    name=\"PlannerAgent\",\n",
    "    instructions=INSTRUCTIONS,\n",
    "    model=\"gpt-4.1-mini\",\n",
    "    output_type=WebSearchPlan,\n",
    ")"
   ]
  },
  {
   "cell_type": "code",
   "execution_count": 5,
   "metadata": {},
   "outputs": [
    {
     "name": "stdout",
     "output_type": "stream",
     "text": [
      "WebSearchPlan(searches=[WebSearchItem(reason='To find expert predictions and forecasts about the price of Ethereum (ETH) specifically for May 30th, 2025', query='Ethereum price prediction May 30 2025'), WebSearchItem(reason='To gather additional forecasts and analysis for Ethereum on the specific date June 31 2025, noting that this date is likely June 30 since June has 30 days', query='Ethereum price prediction June 30 2025'), WebSearchItem(reason='To understand general trends and expert opinions on Ethereum price outlook in mid-2025 as a broader context', query='Ethereum price forecast 2025'), WebSearchItem(reason='To find any recent news or developments that might impact Ethereum price leading up to mid-2025', query='Ethereum news 2024 2025 impact price'), WebSearchItem(reason='To check for reliable forecast platforms that provide future Ethereum price predictions with a timeline', query='Ethereum price prediction platforms 2025')])\n"
     ]
    }
   ],
   "source": [
    "\n",
    "message = \"What is the price prediction for ETH for May30th and June 31st of 2025?\"\n",
    "\n",
    "with trace(\"Search\"):\n",
    "    result = await Runner.run(planner_agent, message)\n",
    "    pprint(result.final_output)"
   ]
  },
  {
   "cell_type": "markdown",
   "metadata": {},
   "source": [
    "## Our Third Agent: Writer Agent\n",
    "\n",
    "Take the results of internet searches and make a report"
   ]
  },
  {
   "cell_type": "code",
   "execution_count": 6,
   "metadata": {},
   "outputs": [],
   "source": [
    "INSTRUCTIONS = (\n",
    "    \"You are a senior researcher tasked with writing a cohesive report for a research query. \"\n",
    "    \"You will be provided with the original query, and some initial research done by a research assistant.\\n\"\n",
    "    \"You should first come up with an outline for the report that describes the structure and \"\n",
    "    \"flow of the report. Then, generate the report and return that as your final output.\\n\"\n",
    "    \"The final output should be in markdown format, and it should be lengthy and detailed. Aim \"\n",
    "    \"for 5-10 pages of content, at least 1000 words.\"\n",
    ")\n",
    "\n",
    "\n",
    "class ReportData(BaseModel):\n",
    "    short_summary: str\n",
    "    \"\"\"A short 2-3 sentence summary of the findings.\"\"\"\n",
    "\n",
    "    markdown_report: str\n",
    "    \"\"\"The final report\"\"\"\n",
    "\n",
    "    follow_up_questions: list[str]\n",
    "    \"\"\"Suggested topics to research further\"\"\"\n",
    "\n",
    "\n",
    "writer_agent = Agent(\n",
    "    name=\"WriterAgent\",\n",
    "    instructions=INSTRUCTIONS,\n",
    "    model=\"gpt-4o-mini\",\n",
    "    output_type=ReportData,\n",
    ")"
   ]
  },
  {
   "cell_type": "markdown",
   "metadata": {},
   "source": [
    "## Our Fourth Agent: push notification\n",
    "\n",
    "Just to show how easy it is to make a tool!\n",
    "\n",
    "I'm using a nifty product called PushOver - to set this up yourself, visit https://pushover.net"
   ]
  },
  {
   "cell_type": "code",
   "execution_count": 32,
   "metadata": {},
   "outputs": [],
   "source": [
    "pushover_user = 'us34s3qa13fd7y8oomhq1mvib3qqy9'\n",
    "\n",
    "pushover_token = 'ae1pdpx17zvyfvcgqrpf6i6zgh4wj4'"
   ]
  },
  {
   "cell_type": "code",
   "execution_count": 35,
   "metadata": {},
   "outputs": [],
   "source": [
    "@function_tool\n",
    "def push(message: str):\n",
    "    \"\"\"Send a push notification with this brief message\"\"\"\n",
    "    payload = {\"user\": pushover_user, \"token\": pushover_token, \"message\": message}\n",
    "    requests.post(pushover_url, data=payload)\n",
    "    return {\"status\": \"success\"}"
   ]
  },
  {
   "cell_type": "code",
   "execution_count": 36,
   "metadata": {},
   "outputs": [
    {
     "data": {
      "text/plain": [
       "FunctionTool(name='push', description='Send a push notification with this brief message', params_json_schema={'properties': {'message': {'title': 'Message', 'type': 'string'}}, 'required': ['message'], 'title': 'push_args', 'type': 'object', 'additionalProperties': False}, on_invoke_tool=<function function_tool.<locals>._create_function_tool.<locals>._on_invoke_tool at 0x121387560>, strict_json_schema=True)"
      ]
     },
     "execution_count": 36,
     "metadata": {},
     "output_type": "execute_result"
    }
   ],
   "source": [
    "push"
   ]
  },
  {
   "cell_type": "code",
   "execution_count": 9,
   "metadata": {},
   "outputs": [],
   "source": [
    "INSTRUCTIONS = \"\"\"You are a member of a research team and will be provided with a short summary of a report.\n",
    "When you receive the report summary, you send a push notification to the user using your tool, informing them that research is complete,\n",
    "and including the report summary you receive\"\"\"\n",
    "\n",
    "\n",
    "push_agent = Agent(\n",
    "    name=\"Push agent\",\n",
    "    instructions=INSTRUCTIONS,\n",
    "    tools=[push],\n",
    "    model=\"gpt-4.1-mini\",\n",
    "    model_settings=ModelSettings(tool_choice=\"required\")\n",
    ")"
   ]
  },
  {
   "cell_type": "markdown",
   "metadata": {},
   "source": [
    "### The next 3 functions will plan and execute the search, using planner_agent and search_agent"
   ]
  },
  {
   "cell_type": "code",
   "execution_count": 11,
   "metadata": {},
   "outputs": [],
   "source": [
    "async def plan_searches(query: str):\n",
    "    \"\"\" Use the planner_agent to plan which searches to run for the query \"\"\"\n",
    "    print(\"Planning searches...\")\n",
    "    result = await Runner.run(planner_agent, f\"Query: {query}\")\n",
    "    print(f\"Will perform {len(result.final_output.searches)} searches\")\n",
    "    return result.final_output\n",
    "\n",
    "async def perform_searches(search_plan: WebSearchPlan):\n",
    "    \"\"\" Call search() for each item in the search plan \"\"\"\n",
    "    print(\"Searching...\")\n",
    "    tasks = [asyncio.create_task(search(item)) for item in search_plan.searches]\n",
    "    results = await asyncio.gather(*tasks)\n",
    "    print(\"Finished searching\")\n",
    "    return results\n",
    "\n",
    "async def search(item: WebSearchItem):\n",
    "    \"\"\" Use the search agent to run a web search for each item in the search plan \"\"\"\n",
    "    input = f\"Search term: {item.query}\\nReason for searching: {item.reason}\"\n",
    "    result = await Runner.run(search_agent, input)\n",
    "    return result.final_output"
   ]
  },
  {
   "cell_type": "markdown",
   "metadata": {},
   "source": [
    "### The next 2 functions write a report and send a push notification"
   ]
  },
  {
   "cell_type": "code",
   "execution_count": 12,
   "metadata": {},
   "outputs": [],
   "source": [
    "async def write_report(query: str, search_results: list[str]):\n",
    "    \"\"\" Use the writer agent to write a report based on the search results\"\"\"\n",
    "    print(\"Thinking about report...\")\n",
    "    input = f\"Original query: {query}\\nSummarized search results: {search_results}\"\n",
    "    result = await Runner.run(writer_agent, input)\n",
    "    print(\"Finished writing report\")\n",
    "    return result.final_output\n",
    "\n",
    "async def send_push(report: ReportData):\n",
    "    \"\"\" Use the push agent to send a notification to the user \"\"\"\n",
    "    print(\"Pushing...\")\n",
    "    result = await Runner.run(push_agent, report.short_summary)\n",
    "    print(\"Push sent\")\n",
    "    return report"
   ]
  },
  {
   "cell_type": "markdown",
   "metadata": {},
   "source": [
    "### Showtime!"
   ]
  },
  {
   "cell_type": "code",
   "execution_count": 13,
   "metadata": {},
   "outputs": [
    {
     "name": "stdout",
     "output_type": "stream",
     "text": [
      "Starting research...\n",
      "Planning searches...\n",
      "Will perform 5 searches\n",
      "Searching...\n",
      "Finished searching\n",
      "Thinking about report...\n",
      "Finished writing report\n",
      "Pushing...\n",
      "Push sent\n",
      "Hooray!\n"
     ]
    },
    {
     "data": {
      "text/markdown": [
       "# Prediction of Ethereum (ETH) Prices for May 2025\n",
       "\n",
       "## Table of Contents\n",
       "\n",
       "1. [Introduction](#introduction)\n",
       "2. [Current Market Data](#current-market-data)\n",
       "3. [Technical Analysis](#technical-analysis)\n",
       "4. [Market Sentiment and External Factors](#market-sentiment-and-external-factors)\n",
       "5. [Price Forecasts from Analysts](#price-forecasts-from-analysts)\n",
       "6. [Factors Influencing Predictions](#factors-influencing-predictions)\n",
       "7. [Conclusion](#conclusion)\n",
       "\n",
       "## Introduction\n",
       "Ethereum (ETH) has emerged as one of the leading cryptocurrencies due to its underlying technology, which powers a range of decentralized applications. As of May 2025, the quest for accurate predictions regarding Ethereum's price has gained momentum among investors, analysts, and traders. This report consolidates various data points and analyses to project ETH prices for May 2025, while highlighting the influencing factors that may impact its valuation.\n",
       "\n",
       "## Current Market Data\n",
       "As of May 17, 2025, Ethereum (ETH) is trading at **$2,504.98**, reflecting a slight decrease of 2.60% from the previous close. Below are the key trading statistics:\n",
       "- **Current Price**: $2,504.98\n",
       "- **Change**: -$66.73 (-0.03%) from previous close\n",
       "- **Intraday High**: $2,631.38\n",
       "- **Intraday Low**: $2,466.40  \n",
       "  \n",
       "This recent data showcases a volatile market, indicating significant fluctuations in investor sentiments.\n",
       "\n",
       "## Technical Analysis\n",
       "Technical analysis has become a critical methodology for predicting cryptocurrency prices. Notable patterns and indicators suggest potential price movements for Ethereum:\n",
       "  \n",
       "### Patterns\n",
       "- **Ascending Triangle**: This pattern suggests potential bullish momentum, implying that ETH could break above notable resistance levels. \n",
       "- **Resistance & Support Levels**: Key resistance is observed at **$1,850**, with anticipated bullish targets ranging from **$1,950 to $2,129**. Conversely, support levels have been identified at **$1,752** and **$1,528**.  \n",
       "\n",
       "### Fibonacci Retracement Levels\n",
       "Currently, Ethereum is testing the **0.786 Fibonacci retracement level** around **$2,075**. A weekly close above **$2,100** may signal a shift towards the **0.618** Fibonacci level at **$2,508**. However, a drop below **$1,700** could indicate further weakness in the price trajectory.  \n",
       "\n",
       "## Market Sentiment and External Factors\n",
       "Market mood and sentiment play critical roles in determining cryptocurrency prices. Currently, several factors influence Ethereum's valuation:\n",
       "\n",
       "### Approval of ETFs\n",
       "Anticipated approval of Ethereum-based Exchange-Traded Funds (ETFs) by the U.S. Securities and Exchange Commission is expected to enhance market liquidity. While these ETFs will not accommodate staking, their approval could nurture investor confidence and improve ETH prices.  \n",
       "\n",
       "### Institutional Interest\n",
       "There has been increasing interest from institutional investors eager to explore the benefits of Ethereum and its capabilities in decentralized finance (DeFi) and non-fungible tokens (NFTs).  \n",
       "\n",
       "## Price Forecasts from Analysts\n",
       "Numerous analysts and financial institutions provide starkly different predictions for Ethereum's price by the end of 2025, with estimates reflecting the market's uncertainty:\n",
       "- **Standard Chartered**: Revised its forecast for Ethereum to **$4,000**, down 60% due to increasing competition and declining revenue. \n",
       "- **Steno Research**: Predicts that ETH may outperform Bitcoin, with projections estimating a price increase to **$8,000**.\n",
       "- **Changelly**: Offers a forecast range, estimating a price from **$5,907.41 to $7,194.28**, with an average of **$6,124.39**.\n",
       "- **DigitalCoinPrice**: Projects a maximum of **$8,116.15** by December 2025, with an average price of **$7,258.18**.\n",
       "- **PricePredictions.com**: Suggests a potential peak at **$7,436.90**, with an average price around **$6,828.86** in May 2025.  \n",
       "\n",
       "These diverse forecasts highlight the uncertainty and complexities surrounding Ethereum's price dynamics.\n",
       "\n",
       "## Factors Influencing Predictions\n",
       "A multitude of factors could sway Ethereum’s market price in the upcoming months. Key influencing elements include:\n",
       "\n",
       "1. **Technological Upgrades**: Continuous system improvements, notably the transition to Ethereum 2.0 and future upgrades, are designed to enhance scalability and performance, which could boost investor trust.\n",
       "2. **Market Conditions**: Changes in regulation, broader market trends, and investor sentiment can significantly impact cryptocurrency valuations. Given that Ethereum supports numerous decentralized applications, robustness in these sectors reflects positively on ETH.\n",
       "3. **Volatility**: The cryptocurrency market is notorious for its volatility. Price fluctuations are common, and any news events could drastically shift investor perspectives. \n",
       "\n",
       "## Conclusion\n",
       "The price predictions for Ethereum (ETH) in May 2025 vary widely among analysts, reflecting the complexities of the cryptocurrency market. Current trading data indicates moderate stability at **$2,504.98**, while technical analyses suggest potential growth if resistance levels are breached. Nevertheless, upcoming technological advancements and institutional interests will likely play crucial roles in shaping market trends. Investors should remain cautious and perform thorough due diligence before making financial commitments in this dynamic and unpredictable environment."
      ],
      "text/plain": [
       "<IPython.core.display.Markdown object>"
      ]
     },
     "metadata": {},
     "output_type": "display_data"
    }
   ],
   "source": [
    "query =\"What is the prediction of ETH prices for May 2025\"\n",
    "\n",
    "with trace(\"Research trace\"):\n",
    "    print(\"Starting research...\")\n",
    "    search_plan = await plan_searches(query)\n",
    "    search_results = await perform_searches(search_plan)\n",
    "    report = await write_report(query, search_results)\n",
    "    await send_push(report)  \n",
    "    print(\"Hooray!\")\n",
    "display(Markdown(report.markdown_report))"
   ]
  },
  {
   "cell_type": "markdown",
   "metadata": {},
   "source": [
    "### As always, take a look at the trace\n",
    "\n",
    "https://platform.openai.com/traces"
   ]
  }
 ],
 "metadata": {
  "kernelspec": {
   "display_name": ".venv",
   "language": "python",
   "name": "python3"
  },
  "language_info": {
   "codemirror_mode": {
    "name": "ipython",
    "version": 3
   },
   "file_extension": ".py",
   "mimetype": "text/x-python",
   "name": "python",
   "nbconvert_exporter": "python",
   "pygments_lexer": "ipython3",
   "version": "3.12.0"
  }
 },
 "nbformat": 4,
 "nbformat_minor": 2
}
