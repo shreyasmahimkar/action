{
 "cells": [
  {
   "cell_type": "markdown",
   "metadata": {},
   "source": [
    "## Deep Research\n",
    "\n",
    "One of the classic cross-business Agentic use cases! This is huge."
   ]
  },
  {
   "cell_type": "markdown",
   "metadata": {},
   "source": [
    "<table style=\"margin: 0; text-align: left; width:100%\">\n",
    "    <tr>\n",
    "        <td style=\"width: 150px; height: 150px; vertical-align: middle;\">\n",
    "            <img src=\"../assets/business.png\" width=\"150\" height=\"150\" style=\"display: block;\" />\n",
    "        </td>\n",
    "        <td>\n",
    "            <h2 style=\"color:#00bfff;\">Commercial implications</h2>\n",
    "            <span style=\"color:#00bfff;\">A Deep Research agent is broadly applicable to any business area, and to your own day-to-day activities. You can make use of this yourself!\n",
    "            </span>\n",
    "        </td>\n",
    "    </tr>\n",
    "</table>"
   ]
  },
  {
   "cell_type": "code",
   "execution_count": 1,
   "metadata": {},
   "outputs": [
    {
     "name": "stderr",
     "output_type": "stream",
     "text": [
      "/Users/shreyas/gitrepos/ai_research/.venv/lib/python3.9/site-packages/urllib3/__init__.py:35: NotOpenSSLWarning: urllib3 v2 only supports OpenSSL 1.1.1+, currently the 'ssl' module is compiled with 'LibreSSL 2.8.3'. See: https://github.com/urllib3/urllib3/issues/3020\n",
      "  warnings.warn(\n"
     ]
    }
   ],
   "source": [
    "# Imports\n",
    "\n",
    "from agents import Agent, WebSearchTool, trace, Runner, function_tool\n",
    "from agents.model_settings import ModelSettings\n",
    "from pydantic import BaseModel\n",
    "from dotenv import load_dotenv\n",
    "import asyncio\n",
    "import os\n",
    "from IPython.display import display, Markdown\n",
    "from pprint import pprint\n",
    "import requests\n",
    "load_dotenv(override=True)\n",
    "\n",
    "# Constants\n",
    "\n",
    "pushover_user = os.getenv(\"PUSHOVER_USER\")\n",
    "pushover_token = os.getenv(\"PUSHOVER_TOKEN\")\n",
    "pushover_url = \"https://api.pushover.net/1/messages.json\""
   ]
  },
  {
   "cell_type": "markdown",
   "metadata": {},
   "source": [
    "## OpenAI Hosted Tools\n",
    "\n",
    "OpenAI Agents SDK includes the following hosted tools:\n",
    "\n",
    "The `WebSearchTool` lets an agent search the web.  \n",
    "The `FileSearchTool` allows retrieving information from your OpenAI Vector Stores.  \n",
    "The `ComputerTool` allows automating computer use tasks like taking screenshots and clicking.\n",
    "\n",
    "### Important note - API charge of WebSearchTool\n",
    "\n",
    "This is costing me 2.5 cents per call for OpenAI WebSearchTool. That can add up to $2-$3 for the next 2 labs. We'll use low cost Search tools with other platforms, so feel free to skip running this if the cost is a concern.\n",
    "\n",
    "Costs are here: https://platform.openai.com/docs/pricing#web-search"
   ]
  },
  {
   "cell_type": "markdown",
   "metadata": {},
   "source": [
    "## We will be making 4 Agents:\n",
    "\n",
    "1. Search Agent - searches online given a search term using an OpenAI hosted tool\n",
    "2. Planner Agent - given a query from the user, come up with searches\n",
    "3. Report Agent - make a report on results\n",
    "4. Push Agent - send a notification to the user's phone with a summary\n",
    "\n",
    "## Our First Agent: Search Agent\n",
    "\n",
    "Given a Search term, search for it on the internet and summarize results."
   ]
  },
  {
   "cell_type": "code",
   "execution_count": 2,
   "metadata": {},
   "outputs": [],
   "source": [
    "INSTRUCTIONS = \"You are a research assistant. Given a search term, you search the web for that term and \\\n",
    "produce a concise summary of the results. The summary must 2-3 paragraphs and less than 300 \\\n",
    "words. Capture the main points. Write succintly, no need to have complete sentences or good \\\n",
    "grammar. This will be consumed by someone synthesizing a report, so it's vital you capture the \\\n",
    "essence and ignore any fluff. Do not include any additional commentary other than the summary itself.\"\n",
    "\n",
    "search_agent = Agent(\n",
    "    name=\"Search agent\",\n",
    "    instructions=INSTRUCTIONS,\n",
    "    tools=[WebSearchTool(search_context_size=\"low\")],\n",
    "    model=\"gpt-4.1-mini\",\n",
    "    model_settings=ModelSettings(tool_choice=\"required\"),\n",
    ")"
   ]
  },
  {
   "cell_type": "code",
   "execution_count": 3,
   "metadata": {},
   "outputs": [
    {
     "data": {
      "text/markdown": [
       "Several open-source models have been developed for forecasting Bitcoin (BTC) prices, leveraging various machine learning and deep learning techniques. Notable among these are:\n",
       "\n",
       "- **MRC-LSTM**: Combines Multi-scale Residual Convolutional Neural Networks (CNN) with Long Short-Term Memory (LSTM) networks to predict Bitcoin's closing prices. This hybrid approach effectively captures features across different time scales and learns long-term dependencies in financial time series data. ([arxiv.org](https://arxiv.org/abs/2105.00707?utm_source=openai))\n",
       "\n",
       "- **CryptoMamba**: Utilizes a Mamba-based State Space Model (SSM) architecture designed to capture long-range dependencies in financial time series data. It has demonstrated enhanced generalizability across different market conditions, surpassing the limitations of previous models. ([arxiv.org](https://arxiv.org/abs/2501.01010?utm_source=openai))\n",
       "\n",
       "- **TimeGPT**: A foundational model for time series forecasting and anomaly detection, TimeGPT is designed to handle financial time series data, including Bitcoin price predictions. It offers robust forecasting capabilities, uncertainty quantification, and anomaly detection, making it valuable for financial analysis and risk management. ([nixtla.dev](https://nixtla.dev/docs/use-cases-bitcoin_price_prediction?utm_source=openai))\n",
       "\n",
       "- **PreBit**: A multimodal model that incorporates Twitter FinBERT embeddings to predict extreme price movements in Bitcoin. By combining social media sentiment analysis with technical indicators and correlated asset prices, PreBit aims to forecast significant market fluctuations. ([arxiv.org](https://arxiv.org/abs/2206.00648?utm_source=openai))\n",
       "\n",
       "- **Helformer**: An attention-based deep learning model for cryptocurrency price forecasting, Helformer employs attention mechanisms to capture complex patterns in Bitcoin price data, enhancing prediction accuracy. ([journalofbigdata.springeropen.com](https://journalofbigdata.springeropen.com/articles/10.1186/s40537-025-01135-4?utm_source=openai))\n",
       "\n",
       "These models are accessible through their respective repositories and publications, providing valuable resources for researchers and practitioners interested in Bitcoin price forecasting. "
      ],
      "text/plain": [
       "<IPython.core.display.Markdown object>"
      ]
     },
     "metadata": {},
     "output_type": "display_data"
    }
   ],
   "source": [
    "message = \"Find the best open source Trading models for forecasting BTC prices\"\n",
    "\n",
    "with trace(\"Search\"):\n",
    "    result = await Runner.run(search_agent, message)\n",
    "\n",
    "display(Markdown(result.final_output))"
   ]
  },
  {
   "cell_type": "markdown",
   "metadata": {},
   "source": [
    "Take a look at the trace\n",
    "\n",
    "https://platform.openai.com/traces"
   ]
  },
  {
   "cell_type": "markdown",
   "metadata": {},
   "source": [
    "## Our Second Agent: Planner Agent\n",
    "\n",
    "Given a query, come up with 5 ideas for web searches that could be run.\n",
    "\n",
    "Use Structured Outputs as our way to ensure the Agent provides what we need."
   ]
  },
  {
   "cell_type": "code",
   "execution_count": 4,
   "metadata": {},
   "outputs": [],
   "source": [
    "# See note above about cost of WebSearchTool\n",
    "\n",
    "HOW_MANY_SEARCHES = 5\n",
    "\n",
    "INSTRUCTIONS = f\"You are a helpful research assistant. Given a query, come up with a set of web searches \\\n",
    "to perform to best answer the query. Output {HOW_MANY_SEARCHES} terms to query for.\"\n",
    "\n",
    "# We use Pydantic objects to describe the Schema of the output\n",
    "\n",
    "class WebSearchItem(BaseModel):\n",
    "    reason: str\n",
    "    \"Your reasoning for why this search is important to the query.\"\n",
    "\n",
    "    query: str\n",
    "    \"The search term to use for the web search.\"\n",
    "\n",
    "\n",
    "class WebSearchPlan(BaseModel):\n",
    "    searches: list[WebSearchItem]\n",
    "    \"\"\"A list of web searches to perform to best answer the query.\"\"\"\n",
    "\n",
    "# We pass in the Pydantic object to ensure the output follows the schema\n",
    "\n",
    "planner_agent = Agent(\n",
    "    name=\"PlannerAgent\",\n",
    "    instructions=INSTRUCTIONS,\n",
    "    model=\"gpt-4.1-mini\",\n",
    "    output_type=WebSearchPlan,\n",
    ")"
   ]
  },
  {
   "cell_type": "code",
   "execution_count": 5,
   "metadata": {},
   "outputs": [
    {
     "name": "stdout",
     "output_type": "stream",
     "text": [
      "WebSearchPlan(searches=[WebSearchItem(reason='Identify leading open source frameworks specifically designed for Bitcoin price prediction.', query='open source frameworks for Bitcoin price prediction'), WebSearchItem(reason='Discover popular machine learning libraries frequently used for cryptocurrency price forecasting.', query='machine learning libraries for cryptocurrency price prediction'), WebSearchItem(reason='Find successful case studies or projects using open source tools to predict BTC prices.', query='successful open source projects predicting Bitcoin prices'), WebSearchItem(reason='Explore community discussions and recommendations on tools for BTC price prediction.', query='best open source tools for Bitcoin price forecasting'), WebSearchItem(reason='Identify frameworks with proven accuracy or popularity in BTC price prediction competitions or challenges.', query='top performing open source frameworks Bitcoin price prediction')])\n"
     ]
    }
   ],
   "source": [
    "\n",
    "message = \"What are the most popular and successful open source frameworks for predicting BTC prices\"\n",
    "\n",
    "with trace(\"Search\"):\n",
    "    result = await Runner.run(planner_agent, message)\n",
    "    pprint(result.final_output)"
   ]
  },
  {
   "cell_type": "markdown",
   "metadata": {},
   "source": [
    "## Our Third Agent: Writer Agent\n",
    "\n",
    "Take the results of internet searches and make a report"
   ]
  },
  {
   "cell_type": "code",
   "execution_count": 6,
   "metadata": {},
   "outputs": [],
   "source": [
    "INSTRUCTIONS = (\n",
    "    \"You are a senior researcher tasked with writing a cohesive report for a research query. \"\n",
    "    \"You will be provided with the original query, and some initial research done by a research assistant.\\n\"\n",
    "    \"You should first come up with an outline for the report that describes the structure and \"\n",
    "    \"flow of the report. Then, generate the report and return that as your final output.\\n\"\n",
    "    \"The final output should be in markdown format, and it should be lengthy and detailed. Aim \"\n",
    "    \"for 5-10 pages of content, at least 1000 words.\"\n",
    ")\n",
    "\n",
    "\n",
    "class ReportData(BaseModel):\n",
    "    short_summary: str\n",
    "    \"\"\"A short 2-3 sentence summary of the findings.\"\"\"\n",
    "\n",
    "    markdown_report: str\n",
    "    \"\"\"The final report\"\"\"\n",
    "\n",
    "    follow_up_questions: list[str]\n",
    "    \"\"\"Suggested topics to research further\"\"\"\n",
    "\n",
    "\n",
    "writer_agent = Agent(\n",
    "    name=\"WriterAgent\",\n",
    "    instructions=INSTRUCTIONS,\n",
    "    model=\"gpt-4o-mini\",\n",
    "    output_type=ReportData,\n",
    ")"
   ]
  },
  {
   "cell_type": "markdown",
   "metadata": {},
   "source": [
    "## Our Fourth Agent: push notification\n",
    "\n",
    "Just to show how easy it is to make a tool!\n",
    "\n",
    "I'm using a nifty product called PushOver - to set this up yourself, visit https://pushover.net"
   ]
  },
  {
   "cell_type": "code",
   "execution_count": 7,
   "metadata": {},
   "outputs": [],
   "source": [
    "@function_tool\n",
    "def push(message: str):\n",
    "    \"\"\"Send a push notification with this brief message\"\"\"\n",
    "    payload = {\"user\": pushover_user, \"token\": pushover_token, \"message\": message}\n",
    "    requests.post(pushover_url, data=payload)\n",
    "    return {\"status\": \"success\"}"
   ]
  },
  {
   "cell_type": "code",
   "execution_count": 8,
   "metadata": {},
   "outputs": [
    {
     "data": {
      "text/plain": [
       "FunctionTool(name='push', description='Send a push notification with this brief message', params_json_schema={'properties': {'message': {'title': 'Message', 'type': 'string'}}, 'required': ['message'], 'title': 'push_args', 'type': 'object', 'additionalProperties': False}, on_invoke_tool=<function function_tool.<locals>._create_function_tool.<locals>._on_invoke_tool at 0x109f2a160>, strict_json_schema=True)"
      ]
     },
     "execution_count": 8,
     "metadata": {},
     "output_type": "execute_result"
    }
   ],
   "source": [
    "push"
   ]
  },
  {
   "cell_type": "code",
   "execution_count": 9,
   "metadata": {},
   "outputs": [],
   "source": [
    "INSTRUCTIONS = \"\"\"You are a member of a research team and will be provided with a short summary of a report.\n",
    "When you receive the report summary, you send a push notification to the user using your tool, informing them that research is complete,\n",
    "and including the report summary you receive\"\"\"\n",
    "\n",
    "\n",
    "push_agent = Agent(\n",
    "    name=\"Push agent\",\n",
    "    instructions=INSTRUCTIONS,\n",
    "    tools=[push],\n",
    "    model=\"gpt-4.1-mini\",\n",
    "    model_settings=ModelSettings(tool_choice=\"required\")\n",
    ")"
   ]
  },
  {
   "cell_type": "markdown",
   "metadata": {},
   "source": [
    "### The next 3 functions will plan and execute the search, using planner_agent and search_agent"
   ]
  },
  {
   "cell_type": "code",
   "execution_count": 10,
   "metadata": {},
   "outputs": [],
   "source": [
    "async def plan_searches(query: str):\n",
    "    \"\"\" Use the planner_agent to plan which searches to run for the query \"\"\"\n",
    "    print(\"Planning searches...\")\n",
    "    result = await Runner.run(planner_agent, f\"Query: {query}\")\n",
    "    print(f\"Will perform {len(result.final_output.searches)} searches\")\n",
    "    return result.final_output\n",
    "\n",
    "async def perform_searches(search_plan: WebSearchPlan):\n",
    "    \"\"\" Call search() for each item in the search plan \"\"\"\n",
    "    print(\"Searching...\")\n",
    "    tasks = [asyncio.create_task(search(item)) for item in search_plan.searches]\n",
    "    results = await asyncio.gather(*tasks)\n",
    "    print(\"Finished searching\")\n",
    "    return results\n",
    "\n",
    "async def search(item: WebSearchItem):\n",
    "    \"\"\" Use the search agent to run a web search for each item in the search plan \"\"\"\n",
    "    input = f\"Search term: {item.query}\\nReason for searching: {item.reason}\"\n",
    "    result = await Runner.run(search_agent, input)\n",
    "    return result.final_output"
   ]
  },
  {
   "cell_type": "markdown",
   "metadata": {},
   "source": [
    "### The next 2 functions write a report and send a push notification"
   ]
  },
  {
   "cell_type": "code",
   "execution_count": 11,
   "metadata": {},
   "outputs": [],
   "source": [
    "async def write_report(query: str, search_results: list[str]):\n",
    "    \"\"\" Use the writer agent to write a report based on the search results\"\"\"\n",
    "    print(\"Thinking about report...\")\n",
    "    input = f\"Original query: {query}\\nSummarized search results: {search_results}\"\n",
    "    result = await Runner.run(writer_agent, input)\n",
    "    print(\"Finished writing report\")\n",
    "    return result.final_output\n",
    "\n",
    "async def send_push(report: ReportData):\n",
    "    \"\"\" Use the push agent to send a notification to the user \"\"\"\n",
    "    print(\"Pushing...\")\n",
    "    result = await Runner.run(push_agent, report.short_summary)\n",
    "    print(\"Push sent\")\n",
    "    return report"
   ]
  },
  {
   "cell_type": "markdown",
   "metadata": {},
   "source": [
    "### Showtime!"
   ]
  },
  {
   "cell_type": "code",
   "execution_count": 12,
   "metadata": {},
   "outputs": [
    {
     "name": "stdout",
     "output_type": "stream",
     "text": [
      "Starting research...\n",
      "Planning searches...\n",
      "Will perform 5 searches\n",
      "Searching...\n",
      "Finished searching\n",
      "Thinking about report...\n",
      "Finished writing report\n",
      "Pushing...\n",
      "Push sent\n",
      "Hooray!\n"
     ]
    },
    {
     "data": {
      "text/markdown": [
       "# Open Source Bitcoin Price Prediction Frameworks: A Comprehensive Overview\n",
       "\n",
       "## Table of Contents  \n",
       "1. [Introduction](#introduction)  \n",
       "2. [Frameworks Overview](#frameworks-overview)  \n",
       "   2.1 [Time Series Forecasting Models](#time-series-forecasting-models)  \n",
       "   2.2 [Machine Learning Techniques](#machine-learning-techniques)  \n",
       "   2.3 [Deep Learning Paradigms](#deep-learning-paradigms)  \n",
       "   2.4 [Sentiment Analysis Models](#sentiment-analysis-models)  \n",
       "3. [Comparative Analysis of Frameworks](#comparative-analysis-of-frameworks)  \n",
       "4. [Case Studies](#case-studies)  \n",
       "5. [Challenges and Limitations](#challenges-and-limitations)  \n",
       "6. [Conclusion](#conclusion)  \n",
       "7. [Future Directions](#future-directions)  \n",
       "8. [References](#references)  \n",
       "\n",
       "---  \n",
       "\n",
       "## 1. Introduction  \n",
       "In recent years, Bitcoin (BTC) has gained immense popularity and continues to attract the attention of investors and researchers alike. Price prediction is crucial for traders wishing to optimize their strategies in this volatile market. This report aims to explore the most effective open-source frameworks that have emerged for BTC price prediction, providing an in-depth view of their capabilities, methodologies, and applicability in real-world scenarios.\n",
       "\n",
       "## 2. Frameworks Overview  \n",
       "Several prominent families of frameworks have emerged for Bitcoin price forecasting, including time series models, statistical methods, and advanced machine-learning approaches. Below we categorize these frameworks to explore their unique features and methodologies.\n",
       "\n",
       "### 2.1 Time Series Forecasting Models  \n",
       "- **TimeGPT**: As a foundational model for time series forecasting, TimeGPT specializes in anomaly detection and is well-suited for Bitcoin price prediction. Its strength lies in its capability to process historical data patterns effectively ([Nixtla](https://nixtla.dev/docs/use-cases-bitcoin_price_prediction?utm_source=openai)).  \n",
       "\n",
       "- **SARIMA and Facebook Prophet**: The Seasonal Autoregressive Integrated Moving Average (SARIMA) model is often combined with Prophet for effective trend extraction. This hybrid model benefits from both traditional statistical methodologies and modern machine learning techniques ([ScienceDirect](https://www.sciencedirect.com/science/article/abs/pii/S0040162523006236?utm_source=openai)).  \n",
       "\n",
       "### 2.2 Machine Learning Techniques  \n",
       "- **Ensemble Models**: Frameworks like the one developed by sakshamverma21 implement ensemble methods, combining Gradient Boosting, XGBoost, LightGBM, and LSTM for superior predictive performance ([GitHub - sakshamverma21](https://github.com/sakshamverma21/Bitcoin-Price-Prediction-Model?utm_source=openai)).  \n",
       "\n",
       "- **Bayesian Regression**: Implementations such as the 'Bayesian regression for latent source model' allow for predicting Bitcoin price variations, enriching the analysis with statistical rigor ([GitHub - stavros0](https://github.com/stavros0/bitcoin-price-prediction?utm_source=openai)).  \n",
       "\n",
       "### 2.3 Deep Learning Paradigms  \n",
       "- **LSTM Neural Networks**: Long Short-Term Memory networks are widely utilized due to their efficacy in processing sequential data, particularly in predicting Bitcoin prices from historical data ([GitHub - Avinashrkrk](https://github.com/Avinashrkrk/Bitcoin-Price-Prediction?utm_source=openai)).  \n",
       "\n",
       "- **MRC-LSTM**: This innovative approach combines Multi-scale Residual CNN with LSTM, achieving better performance in capturing long-term dependencies in the price data through systematic hyperparameter tuning ([arXiv](https://arxiv.org/abs/2105.00707?utm_source=openai)).  \n",
       "\n",
       "### 2.4 Sentiment Analysis Models  \n",
       "- **BTCPredictionWithTweets**: Utilizing sentiment analysis based on Twitter data, this framework integrates market sentiment to enhance Bitcoin price predictions, reflecting the influence of social media on market movements ([GitHub-Wiki](https://github-wiki-see.page/m/hupseb/BTCPredictionWithTweets/wiki/Bitcoin-Price-Prediction-using-Sentiment-Analysis-of-Twitter-Data?utm_source=openai)).  \n",
       "\n",
       "- **LunarCrush**: By combining insights from social media platforms, this framework analyzes sentiment trends alongside market data to provide holistic price forecasts ([Blockchain Magazine](https://blockchainmagazine.com/best-reviews-of-quantify-crypto-terminal/?utm_source=openai)).  \n",
       "\n",
       "## 3. Comparative Analysis of Frameworks  \n",
       "A comparative analysis of the aforementioned frameworks reveals significant distinctions in efficacy and application:\n",
       "- **Predictive Accuracy**: Hybrid models such as MRC-LSTM often outperform traditional methods like SARIMA due to their ability to learn complex and non-linear data relationships.\n",
       "- **Implementation Complexity**: Models like LSTM require more computational resources and hyperparameter tuning compared to simpler approaches like Bayesian regression.\n",
       "- **User Flexibility**: Tools like TimeGPT and CryptoAnalytics Toolkit offer flexibility to adapt to various financial time series forecasting requirements.\n",
       "\n",
       "## 4. Case Studies  \n",
       "Several case studies highlight the practical applications of these frameworks:\n",
       "- **CryptoMamba**: This state space model demonstrates the successful application of long-range dependency modeling to Bitcoin price prediction compared to simpler methods, showcasing enhanced prediction accuracy under varying market conditions ([arXiv](https://arxiv.org/abs/2501.01010?utm_source=openai)).  \n",
       "- **SynthBTC**: Leveraging Monte Carlo simulations, this tool provides diverse price scenario generation, which helps traders in decision-making processes based on potential price movements ([GitHub - synthBTC](https://github.imc.re/jofpin/synthBTC?utm_source=openai)).  \n",
       "\n",
       "## 5. Challenges and Limitations  \n",
       "Despite their advanced nature, these frameworks face ongoing challenges:\n",
       "- **Market Volatility**: The unpredictable nature of Bitcoin markets can lead to reduced efficacy of models trained on historical data. Real-time adjustment of models is often required.\n",
       "- **Data Quality**: The quality of input data (historical price and sentiment) directly influences model performance; hence, data cleansing and preprocessing are crucial steps.\n",
       "- **Overfitting**: Complex models, especially deep learning frameworks, can become prone to overfitting, necessitating robust validation techniques like cross-validation.\n",
       "\n",
       "## 6. Conclusion  \n",
       "Open-source frameworks for Bitcoin price prediction employ a rich blend of statistical methods, machine learning, and deep learning paradigms. Each framework has unique strengths that cater to different analytical needs and practical applications. The constant evolution in this field emphasizes the necessity for ongoing research and adaptation to emerging market trends.\n",
       "\n",
       "## 7. Future Directions  \n",
       "Future research should focus on integrating frameworks to improve prediction accuracy through collaborative approaches. Advancements in machine learning, particularly in the fields of reinforcement learning and neural architecture search, may also contribute to improved predictions. Extending the scope of analysis to include other cryptocurrencies could provide broader insights into market dynamics.\n",
       "\n",
       "## 8. References  \n",
       "- Nixtla Documentation: [TimeGPT](https://nixtla.dev/docs/use-cases-bitcoin_price_prediction?utm_source=openai)  \n",
       "- GitHub Repositories: [MRC-LSTM](https://arxiv.org/abs/2105.00707?utm_source=openai), [CryptoMamba](https://arxiv.org/abs/2501.01010?utm_source=openai)  \n",
       "- Research Articles: [SARIMA and Prophet](https://www.sciencedirect.com/science/article/abs/pii/S0040162523006236?utm_source=openai)  \n",
       "- Various frameworks as referenced above."
      ],
      "text/plain": [
       "<IPython.core.display.Markdown object>"
      ]
     },
     "metadata": {},
     "output_type": "display_data"
    }
   ],
   "source": [
    "query =\"What are the most popular and successful open source BTC prediction frameworks\"\n",
    "\n",
    "with trace(\"Research trace\"):\n",
    "    print(\"Starting research...\")\n",
    "    search_plan = await plan_searches(query)\n",
    "    search_results = await perform_searches(search_plan)\n",
    "    report = await write_report(query, search_results)\n",
    "    await send_push(report)  \n",
    "    print(\"Hooray!\")\n",
    "display(Markdown(report.markdown_report))"
   ]
  },
  {
   "cell_type": "markdown",
   "metadata": {},
   "source": [
    "### As always, take a look at the trace\n",
    "\n",
    "https://platform.openai.com/traces"
   ]
  }
 ],
 "metadata": {
  "kernelspec": {
   "display_name": ".venv",
   "language": "python",
   "name": "python3"
  },
  "language_info": {
   "codemirror_mode": {
    "name": "ipython",
    "version": 3
   },
   "file_extension": ".py",
   "mimetype": "text/x-python",
   "name": "python",
   "nbconvert_exporter": "python",
   "pygments_lexer": "ipython3",
   "version": "3.9.6"
  }
 },
 "nbformat": 4,
 "nbformat_minor": 2
}
